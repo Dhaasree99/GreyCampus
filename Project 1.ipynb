{
 "cells": [
  {
   "cell_type": "markdown",
   "metadata": {},
   "source": [
    "# Python Project"
   ]
  },
  {
   "cell_type": "markdown",
   "metadata": {},
   "source": [
    "## Description:\n",
    "## Create a program in Python, to check if a given number is prime."
   ]
  },
  {
   "cell_type": "raw",
   "metadata": {},
   "source": [
    "1.Add a function to take user input.\n",
    "\n",
    "My Interpretation:\n",
    "Here i am defining a function named enter_num() which takes input from the user.Whenever we use the\n",
    "input() function it takes input as characters,inorder to change that into integer i used the int() \n",
    "method and changed it into integer for further process."
   ]
  },
  {
   "cell_type": "code",
   "execution_count": 1,
   "metadata": {},
   "outputs": [],
   "source": [
    "def enter_num():\n",
    "#Takes input from the user and stores it in number variable.\n",
    "    number = int(input(\"Enter any number: \"))"
   ]
  },
  {
   "cell_type": "raw",
   "metadata": {},
   "source": [
    "2.Also must have a function where the number is predetermined.\n",
    "\n",
    "My Interpretation:\n",
    "Here i used the concept of NESTED FUNCTIONS to identify whether the given number is prime or not so i defined another sub-function checking() inside the main-function enter_num()."
   ]
  },
  {
   "cell_type": "code",
   "execution_count": 2,
   "metadata": {},
   "outputs": [],
   "source": [
    "def checking():\n",
    "        if number > 1: \n",
    "#checks if the number is greater than one. If so enters the conditional statement.\n",
    "            for i in range(2, number):\n",
    "#for loop used for looping \n",
    "                if (number % i) == 0:\n",
    "#condition used to check if number is prime or not if not prime it prints the satement and breaks.\n",
    "                    print(number, \"is not a prime number\")\n",
    "                    break\n",
    "#if the condition is not satisfied breaks from if condition and prints the statement in the else loop.\n",
    "            else:\n",
    "                print(number, \"is a prime number\")\n",
    "#if the number is less than or equal to one it prints the statement as not a prime number.As prime \n",
    "#number is always greater than one.\n",
    "        else:\n",
    "            print(number, \"is not a prime number\")\n",
    "#We should call the function inorder to let it begin so i called the sub-function checking() inside\n",
    "#the main function enter_num()\n",
    "        checking()\n",
    "#Similarly here i call the main function that is enter_num() in which we defined the sub-function \n",
    "#checking()\n",
    "enter_num()"
   ]
  },
  {
   "cell_type": "markdown",
   "metadata": {},
   "source": [
    "## Here's output of the program"
   ]
  },
  {
   "cell_type": "code",
   "execution_count": 3,
   "metadata": {},
   "outputs": [
    {
     "name": "stdout",
     "output_type": "stream",
     "text": [
      "Enter any number: 9\n",
      "9 is not a prime number\n"
     ]
    }
   ],
   "source": [
    "def enter_num():\n",
    "    number = int(input(\"Enter any number: \"))\n",
    "    def checking():\n",
    "        if number > 1:\n",
    "            for i in range(2, number):\n",
    "                if (number % i) == 0:\n",
    "                    print(number, \"is not a prime number\")\n",
    "                    break\n",
    "            else:\n",
    "                print(number, \"is a prime number\")\n",
    "        else:\n",
    "            print(number, \"is not a prime number\")\n",
    "    checking()\n",
    "enter_num()"
   ]
  },
  {
   "cell_type": "raw",
   "metadata": {},
   "source": [
    "So here i entered the number 9 and it displays \"9 is not a prime number\" which is true.Similarly we cant give any number as input and check the number if it's prime or not."
   ]
  }
 ],
 "metadata": {
  "kernelspec": {
   "display_name": "Python 3",
   "language": "python",
   "name": "python3"
  },
  "language_info": {
   "codemirror_mode": {
    "name": "ipython",
    "version": 3
   },
   "file_extension": ".py",
   "mimetype": "text/x-python",
   "name": "python",
   "nbconvert_exporter": "python",
   "pygments_lexer": "ipython3",
   "version": "3.8.5"
  }
 },
 "nbformat": 4,
 "nbformat_minor": 4
}
