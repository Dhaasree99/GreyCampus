{
 "cells": [
  {
   "cell_type": "markdown",
   "metadata": {},
   "source": [
    "# 1. Import NUMPY as np"
   ]
  },
  {
   "cell_type": "code",
   "execution_count": 1,
   "metadata": {},
   "outputs": [],
   "source": [
    "import numpy as np"
   ]
  },
  {
   "cell_type": "markdown",
   "metadata": {},
   "source": [
    "# 2.Create a null vector of size 10"
   ]
  },
  {
   "cell_type": "code",
   "execution_count": 64,
   "metadata": {},
   "outputs": [
    {
     "name": "stdout",
     "output_type": "stream",
     "text": [
      "[0 0 0 0 0 0 0 0 0 0]\n"
     ]
    }
   ],
   "source": [
    "a=np.zeros(10,dtype=int)\n",
    "print(a)"
   ]
  },
  {
   "cell_type": "markdown",
   "metadata": {},
   "source": [
    "# 3.Create a null vector of size 10 but the fifth value which is 1"
   ]
  },
  {
   "cell_type": "code",
   "execution_count": 65,
   "metadata": {},
   "outputs": [
    {
     "name": "stdout",
     "output_type": "stream",
     "text": [
      "[0 0 0 0 1 0 0 0 0 0]\n"
     ]
    }
   ],
   "source": [
    "a[4]=1\n",
    "print(a)"
   ]
  },
  {
   "cell_type": "markdown",
   "metadata": {},
   "source": [
    "# 4.Create a vector with values ranging from 10 to 49"
   ]
  },
  {
   "cell_type": "code",
   "execution_count": 13,
   "metadata": {},
   "outputs": [
    {
     "name": "stdout",
     "output_type": "stream",
     "text": [
      "[10 11 12 13 14 15 16 17 18 19 20 21 22 23 24 25 26 27 28 29 30 31 32 33\n",
      " 34 35 36 37 38 39 40 41 42 43 44 45 46 47 48 49]\n"
     ]
    }
   ],
   "source": [
    "b=np.arange(10,50)\n",
    "print(b)"
   ]
  },
  {
   "cell_type": "markdown",
   "metadata": {},
   "source": [
    "# 5.Reverse a vector (the first element becomes last)"
   ]
  },
  {
   "cell_type": "code",
   "execution_count": 16,
   "metadata": {},
   "outputs": [
    {
     "data": {
      "text/plain": [
       "array([49, 48, 47, 46, 45, 44, 43, 42, 41, 40, 39, 38, 37, 36, 35, 34, 33,\n",
       "       32, 31, 30, 29, 28, 27, 26, 25, 24, 23, 22, 21, 20, 19, 18, 17, 16,\n",
       "       15, 14, 13, 12, 11, 10])"
      ]
     },
     "execution_count": 16,
     "metadata": {},
     "output_type": "execute_result"
    }
   ],
   "source": [
    "b[::-1]"
   ]
  },
  {
   "cell_type": "markdown",
   "metadata": {},
   "source": [
    "# 6.Create a 3x3 matrix with values ranging from 0 to 8"
   ]
  },
  {
   "cell_type": "code",
   "execution_count": 22,
   "metadata": {},
   "outputs": [
    {
     "name": "stdout",
     "output_type": "stream",
     "text": [
      "[[0 1 2]\n",
      " [3 4 5]\n",
      " [6 7 8]]\n"
     ]
    }
   ],
   "source": [
    "matrix=np.arange(9).reshape(3,3)\n",
    "print(matrix)"
   ]
  },
  {
   "cell_type": "markdown",
   "metadata": {},
   "source": [
    "# 7.Find indices of non­zero elements from [1,2,0,0,4,0]"
   ]
  },
  {
   "cell_type": "code",
   "execution_count": 23,
   "metadata": {},
   "outputs": [
    {
     "name": "stdout",
     "output_type": "stream",
     "text": [
      "[1, 2, 0, 0, 4, 0]\n"
     ]
    }
   ],
   "source": [
    "ele=[1,2,0,0,4,0]\n",
    "print(ele)"
   ]
  },
  {
   "cell_type": "code",
   "execution_count": 24,
   "metadata": {},
   "outputs": [
    {
     "data": {
      "text/plain": [
       "(array([0, 1, 4], dtype=int64),)"
      ]
     },
     "execution_count": 24,
     "metadata": {},
     "output_type": "execute_result"
    }
   ],
   "source": [
    "np.nonzero(ele)"
   ]
  },
  {
   "cell_type": "markdown",
   "metadata": {},
   "source": [
    "# 8.Create a 3x3x3 array with random values"
   ]
  },
  {
   "cell_type": "code",
   "execution_count": 158,
   "metadata": {},
   "outputs": [
    {
     "name": "stdout",
     "output_type": "stream",
     "text": [
      "[[5 6 3]\n",
      " [6 0 3]\n",
      " [7 3 7]]\n"
     ]
    }
   ],
   "source": [
    "Matrix=np.random.randint(10,size=(3,3))\n",
    "print(Matrix)"
   ]
  },
  {
   "cell_type": "markdown",
   "metadata": {},
   "source": [
    "# 9.Create a random vector of size 30 and find the mean value"
   ]
  },
  {
   "cell_type": "code",
   "execution_count": 159,
   "metadata": {},
   "outputs": [
    {
     "name": "stdout",
     "output_type": "stream",
     "text": [
      "[ 7 32 22 44 47 43 36 32 25 47 20 17 21 32 26 21 42 38  0 39 30 27 35 13\n",
      " 28 16 39 24 31 18]\n"
     ]
    }
   ],
   "source": [
    "vector= np.random.randint(50,size=30)\n",
    "print(vector)\n"
   ]
  },
  {
   "cell_type": "code",
   "execution_count": 160,
   "metadata": {},
   "outputs": [
    {
     "data": {
      "text/plain": [
       "28.4"
      ]
     },
     "execution_count": 160,
     "metadata": {},
     "output_type": "execute_result"
    }
   ],
   "source": [
    "np.mean(vector)"
   ]
  },
  {
   "cell_type": "markdown",
   "metadata": {},
   "source": [
    "# 10.Create a 2d array with 1 on the border and 0 inside"
   ]
  },
  {
   "cell_type": "code",
   "execution_count": 53,
   "metadata": {},
   "outputs": [
    {
     "name": "stdout",
     "output_type": "stream",
     "text": [
      "[1, 1, 1, 1, 0, 1, 1, 1, 1]\n"
     ]
    }
   ],
   "source": [
    "array1=[1,1,1,1,0,1,1,1,1]\n",
    "print(array1)"
   ]
  },
  {
   "cell_type": "code",
   "execution_count": 58,
   "metadata": {},
   "outputs": [
    {
     "data": {
      "text/plain": [
       "array([[1, 1, 1],\n",
       "       [1, 0, 1],\n",
       "       [1, 1, 1]])"
      ]
     },
     "execution_count": 58,
     "metadata": {},
     "output_type": "execute_result"
    }
   ],
   "source": [
    "np.reshape(array1,(3,3))"
   ]
  },
  {
   "cell_type": "markdown",
   "metadata": {},
   "source": [
    "# 11.Create an 8x8 matrix and fill it with a checkerboard pattern"
   ]
  },
  {
   "cell_type": "code",
   "execution_count": 69,
   "metadata": {},
   "outputs": [
    {
     "name": "stdout",
     "output_type": "stream",
     "text": [
      "[[0 0 0 0 0 0 0 0]\n",
      " [0 0 0 0 0 0 0 0]\n",
      " [0 0 0 0 0 0 0 0]\n",
      " [0 0 0 0 0 0 0 0]\n",
      " [0 0 0 0 0 0 0 0]\n",
      " [0 0 0 0 0 0 0 0]\n",
      " [0 0 0 0 0 0 0 0]\n",
      " [0 0 0 0 0 0 0 0]]\n"
     ]
    }
   ],
   "source": [
    "c=np.zeros((8,8),dtype=int)\n",
    "print(c)"
   ]
  },
  {
   "cell_type": "code",
   "execution_count": 97,
   "metadata": {},
   "outputs": [
    {
     "name": "stdout",
     "output_type": "stream",
     "text": [
      "[[0 0 0 0 0 0 0 0]\n",
      " [0 1 0 1 0 1 0 1]\n",
      " [0 0 0 0 0 0 0 0]\n",
      " [0 1 0 1 0 1 0 1]\n",
      " [0 0 0 0 0 0 0 0]\n",
      " [0 1 0 1 0 1 0 1]\n",
      " [0 0 0 0 0 0 0 0]\n",
      " [0 1 0 1 0 1 0 1]]\n"
     ]
    }
   ],
   "source": [
    "c[1::2,::2]=0\n",
    "print(c)"
   ]
  },
  {
   "cell_type": "markdown",
   "metadata": {},
   "source": [
    "# 12.What is the major difference between sets, lists, tuples and dictionaries?"
   ]
  },
  {
   "cell_type": "markdown",
   "metadata": {},
   "source": [
    "## Sets: They are declared in flower braces{ }. They are unordered and unindexed.\n",
    "             "
   ]
  },
  {
   "cell_type": "code",
   "execution_count": 100,
   "metadata": {},
   "outputs": [
    {
     "name": "stdout",
     "output_type": "stream",
     "text": [
      "{'Dhana', 'Sree', 'S'}\n",
      "{'Greycampus', 'Dhana', 'Sree', 'S'}\n"
     ]
    }
   ],
   "source": [
    "#eg for sets\n",
    "set_1={\"Dhana\",\"Sree\",\"S\"}\n",
    "print(set_1)\n",
    "#can Add new elements and can do other funcyions like removing,updating,pop etc.\n",
    "set_1.add(\"Greycampus\")\n",
    "print(set_1)"
   ]
  },
  {
   "cell_type": "markdown",
   "metadata": {},
   "source": [
    "## Lists: They are declared using square braces[ ].They can contain duplicate values. They are mutable i.e; the values can be changed"
   ]
  },
  {
   "cell_type": "code",
   "execution_count": 108,
   "metadata": {},
   "outputs": [
    {
     "name": "stdout",
     "output_type": "stream",
     "text": [
      "['hi', 'this', 'is', 'dhana', 'hi']\n",
      "['this', 'is', 'dhana', 'hi']\n",
      "['this', 'is', 'dhana', 'hi', 'sree']\n"
     ]
    }
   ],
   "source": [
    "#eg for lists\n",
    "list_1=[\"hi\",\"this\",\"is\",\"dhana\",\"hi\"]\n",
    "print(list_1)\n",
    "#removing a value in list\n",
    "list_1.remove(\"hi\")\n",
    "print(list_1)\n",
    "#appending means adding a new value to the list\n",
    "list_1.append(\"sree\")\n",
    "print(list_1)"
   ]
  },
  {
   "cell_type": "markdown",
   "metadata": {},
   "source": [
    "## Tuples: They are defined using round  braces( ).They are immutable i.e: the values cannot be changed."
   ]
  },
  {
   "cell_type": "code",
   "execution_count": 111,
   "metadata": {},
   "outputs": [
    {
     "name": "stdout",
     "output_type": "stream",
     "text": [
      "(1, 23, 5, 67, 2)\n"
     ]
    },
    {
     "ename": "AttributeError",
     "evalue": "'tuple' object has no attribute 'remove'",
     "output_type": "error",
     "traceback": [
      "\u001b[1;31m---------------------------------------------------------------------------\u001b[0m",
      "\u001b[1;31mAttributeError\u001b[0m                            Traceback (most recent call last)",
      "\u001b[1;32m<ipython-input-111-580fe368b46b>\u001b[0m in \u001b[0;36m<module>\u001b[1;34m\u001b[0m\n\u001b[0;32m      3\u001b[0m \u001b[0mprint\u001b[0m\u001b[1;33m(\u001b[0m\u001b[0mtuple_1\u001b[0m\u001b[1;33m)\u001b[0m\u001b[1;33m\u001b[0m\u001b[1;33m\u001b[0m\u001b[0m\n\u001b[0;32m      4\u001b[0m \u001b[1;31m#cannot be changed\u001b[0m\u001b[1;33m\u001b[0m\u001b[1;33m\u001b[0m\u001b[1;33m\u001b[0m\u001b[0m\n\u001b[1;32m----> 5\u001b[1;33m \u001b[0mtuple_1\u001b[0m\u001b[1;33m.\u001b[0m\u001b[0mremove\u001b[0m\u001b[1;33m(\u001b[0m\u001b[1;36m1\u001b[0m\u001b[1;33m)\u001b[0m\u001b[1;33m\u001b[0m\u001b[1;33m\u001b[0m\u001b[0m\n\u001b[0m",
      "\u001b[1;31mAttributeError\u001b[0m: 'tuple' object has no attribute 'remove'"
     ]
    }
   ],
   "source": [
    "#eg for tuples\n",
    "tuple_1=(1,23,5,67,2)\n",
    "print(tuple_1)\n",
    "#cannot be changed\n",
    "tuple_1.remove(1)"
   ]
  },
  {
   "cell_type": "markdown",
   "metadata": {},
   "source": [
    "## Dictionaries: They are defined using the flower braces { }. They contain a key paired with its values.They are unordered and do not allow duplicate values."
   ]
  },
  {
   "cell_type": "code",
   "execution_count": 142,
   "metadata": {},
   "outputs": [
    {
     "name": "stdout",
     "output_type": "stream",
     "text": [
      "{'key1': 'hello', 'key2': 'Everyone', 'key3': 'bye'}\n",
      "{'key1': 'hello', 'key2': 'Everyone', 'key3': 'bye', 'key4': 'greycampus'}\n",
      "{'key1': 'hello', 'key2': 'Everyone', 'key4': 'greycampus'}\n",
      "{'key1': 'hello', 'key2': 'Everyone', 'key4': 'sup?'}\n"
     ]
    }
   ],
   "source": [
    "#eg for dictionaries\n",
    "dict_1={\"key1\":\"hello\",\"key2\":\"Everyone\",\"key3\":\"bye\"}\n",
    "print(dict_1)\n",
    "#adding a key and value\n",
    "dict_1[\"key4\"]=\"greycampus\"\n",
    "print(dict_1)\n",
    "#deleting a key and value\n",
    "del dict_1[\"key3\"]\n",
    "print(dict_1)\n",
    "#to change a key value we overwrite it\n",
    "dict_1[\"key4\"]=\"sup?\"\n",
    "print(dict_1)"
   ]
  },
  {
   "cell_type": "markdown",
   "metadata": {},
   "source": [
    "# 13.Print first 10 natural numbers using while loop"
   ]
  },
  {
   "cell_type": "code",
   "execution_count": 127,
   "metadata": {},
   "outputs": [
    {
     "name": "stdout",
     "output_type": "stream",
     "text": [
      "1\n",
      "2\n",
      "3\n",
      "4\n",
      "5\n",
      "6\n",
      "7\n",
      "8\n",
      "9\n",
      "10\n"
     ]
    }
   ],
   "source": [
    "a=1\n",
    "while a<=10:\n",
    "    print(a)\n",
    "    a+=1\n"
   ]
  },
  {
   "cell_type": "markdown",
   "metadata": {},
   "source": [
    "# 14.Print the numbers -10 to -1 using for loop."
   ]
  },
  {
   "cell_type": "code",
   "execution_count": 139,
   "metadata": {},
   "outputs": [
    {
     "name": "stdout",
     "output_type": "stream",
     "text": [
      "-10\n",
      "-9\n",
      "-8\n",
      "-7\n",
      "-6\n",
      "-5\n",
      "-4\n",
      "-3\n",
      "-2\n",
      "-1\n"
     ]
    }
   ],
   "source": [
    "start=-10\n",
    "end=0\n",
    "for x in range(start,end):\n",
    "    print(x)\n"
   ]
  },
  {
   "cell_type": "markdown",
   "metadata": {},
   "source": [
    "# 15.Print the message “Done” after successful execution of any for a loop. "
   ]
  },
  {
   "cell_type": "code",
   "execution_count": 141,
   "metadata": {},
   "outputs": [
    {
     "name": "stdout",
     "output_type": "stream",
     "text": [
      "equal or greater than 2\n",
      "DONE\n"
     ]
    }
   ],
   "source": [
    "a=2\n",
    "if a<2:\n",
    "    print(\"less than 2\")\n",
    "else:\n",
    "    print(\"equal or greater than 2\")\n",
    "print(\"DONE\")"
   ]
  },
  {
   "cell_type": "markdown",
   "metadata": {},
   "source": [
    "# 16.Create a random vector of size 10 and sort it"
   ]
  },
  {
   "cell_type": "code",
   "execution_count": 157,
   "metadata": {},
   "outputs": [
    {
     "name": "stdout",
     "output_type": "stream",
     "text": [
      "Before sort: [2 9 7 8 2 1 7 4 0 5] \n",
      "\n",
      "After sort: [0 1 2 2 4 5 7 7 8 9]\n"
     ]
    }
   ],
   "source": [
    "sorting=np.random.randint(10,size=10)\n",
    "print(\"Before sort:\",sorting,\"\\n\")\n",
    "sorting.sort()\n",
    "print(\"After sort:\",sorting)"
   ]
  },
  {
   "cell_type": "markdown",
   "metadata": {},
   "source": [
    "# 17.Execute any three math functions using NumPy."
   ]
  },
  {
   "cell_type": "code",
   "execution_count": 171,
   "metadata": {},
   "outputs": [
    {
     "name": "stdout",
     "output_type": "stream",
     "text": [
      "Sum of two arrays: [ 5 12  5  7]\n",
      "Square root of y: [1.41421356 1.73205081 2.         2.23606798]\n",
      "Floor values of array z: [3. 9. 1. 2.]\n",
      "Exponential of 2 values of array y: [ 4.  8. 16. 32.]\n",
      "Sine values of array z: [0.14112001 0.41211849 0.84147098 0.90929743]\n"
     ]
    }
   ],
   "source": [
    "y=np.array([2,3,4,5])\n",
    "z=np.array([3,9,1,2])\n",
    "#sum of two arrays\n",
    "print(\"Sum of two arrays:\",np.add(y,z))\n",
    "\n",
    "#square root values of array y\n",
    "print(\"Square root of y:\",np.sqrt(y))\n",
    "\n",
    "#floor values of array z\n",
    "print(\"Floor values of array z:\",np.floor(z))\n",
    "\n",
    "#exponential of 2 values\n",
    "print(\"Exponential of 2 values of array y:\",np.exp2(y))\n",
    "\n",
    "#returns trignometric sine values of the array\n",
    "print(\"Sine values of array z:\",np.sin(z))"
   ]
  }
 ],
 "metadata": {
  "kernelspec": {
   "display_name": "Python 3",
   "language": "python",
   "name": "python3"
  },
  "language_info": {
   "codemirror_mode": {
    "name": "ipython",
    "version": 3
   },
   "file_extension": ".py",
   "mimetype": "text/x-python",
   "name": "python",
   "nbconvert_exporter": "python",
   "pygments_lexer": "ipython3",
   "version": "3.8.5"
  }
 },
 "nbformat": 4,
 "nbformat_minor": 4
}
